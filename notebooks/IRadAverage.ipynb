{
 "cells": [
  {
   "cell_type": "markdown",
   "id": "445afb7a",
   "metadata": {},
   "source": [
    "# Reading Infrared Radiance Data\n",
    "This notebook visualizes the infrared radiance from\n",
    "satellite data dx files as an example.\n",
    "\n",
    "We simply plot a scatter plot of points colored by radiance.\n",
    "For more efficient rendering, it is suggested that points\n",
    "be averaged into a grid."
   ]
  },
  {
   "cell_type": "code",
   "execution_count": null,
   "id": "1c0e3a16",
   "metadata": {},
   "outputs": [],
   "source": [
    "# Import necessary data\n",
    "from dxread.reader import read_dxdata\n",
    "from pathlib import Path\n",
    "import plotly.express as px\n",
    "\n",
    "# Setup paths\n",
    "DATA_DIR = Path.cwd().parent / Path(\"data\")"
   ]
  },
  {
   "cell_type": "code",
   "execution_count": null,
   "id": "e8fbc19d",
   "metadata": {},
   "outputs": [],
   "source": [
    "# Choose a file to read\n",
    "#filename = \"ISCCP.DX.0.GOE-7.1991.01.01.0600.AES\"\n",
    "#filename = \"ISCCP.DX.0.GOE-7.1991.01.01.1800.AES\"\n",
    "filename = \"ISCCP.DX.0.MET-7.2002.01.02.1200.EUM\"\n",
    "filepath = DATA_DIR / Path(filename)"
   ]
  },
  {
   "cell_type": "code",
   "execution_count": null,
   "id": "471e9df2",
   "metadata": {},
   "outputs": [],
   "source": [
    "# Read in the data\n",
    "sat_dat = read_dxdata(filepath)"
   ]
  },
  {
   "cell_type": "code",
   "execution_count": null,
   "id": "564c04f9",
   "metadata": {},
   "outputs": [],
   "source": [
    "# Get the pixel data.\n",
    "pixels = sat_dat.pixels()\n",
    "print(f'This data set contains {len(pixels)} pixels')"
   ]
  },
  {
   "cell_type": "code",
   "execution_count": null,
   "id": "a5278e15",
   "metadata": {},
   "outputs": [],
   "source": [
    "# Get the latitude, longitude and infrared radiance per pixel\n",
    "lats = [pixel.point.lat for pixel in pixels]\n",
    "lons = [pixel.point.lon for pixel in pixels]\n",
    "irads = [pixel.data.dxs1.irad for pixel in pixels]"
   ]
  },
  {
   "cell_type": "code",
   "execution_count": null,
   "id": "1644501f",
   "metadata": {},
   "outputs": [],
   "source": [
    "# Let's sample every 32 pixels just to \n",
    "# speed up rendering. Change this to 1\n",
    "# to see the full resolution image.\n",
    "SAMPLING = 32\n",
    "fig = px.scatter_geo(\n",
    "    lat=lats[::SAMPLING],\n",
    "    lon=lons[::SAMPLING],\n",
    "    color=irads[::SAMPLING]\n",
    ")\n",
    "fig.show()"
   ]
  },
  {
   "cell_type": "markdown",
   "id": "d216badb",
   "metadata": {},
   "source": [
    "Here is the final result as an image.\n",
    "(Not rendered using plotly to save space)\n",
    "<img src=\"../images/sample_irad_plot.png\">"
   ]
  },
  {
   "cell_type": "code",
   "execution_count": null,
   "id": "ec9bb8b2",
   "metadata": {},
   "outputs": [],
   "source": []
  }
 ],
 "metadata": {
  "kernelspec": {
   "display_name": "Python 3 (ipykernel)",
   "language": "python",
   "name": "python3"
  },
  "language_info": {
   "codemirror_mode": {
    "name": "ipython",
    "version": 3
   },
   "file_extension": ".py",
   "mimetype": "text/x-python",
   "name": "python",
   "nbconvert_exporter": "python",
   "pygments_lexer": "ipython3",
   "version": "3.8.7"
  }
 },
 "nbformat": 4,
 "nbformat_minor": 5
}
